{
 "cells": [
  {
   "cell_type": "code",
   "execution_count": 2,
   "id": "a5a14507",
   "metadata": {},
   "outputs": [],
   "source": [
    "import numpy as np \n",
    "import pandas as pd "
   ]
  },
  {
   "cell_type": "code",
   "execution_count": 2,
   "id": "9f300298",
   "metadata": {},
   "outputs": [
    {
     "data": {
      "text/plain": [
       "'2.3.1'"
      ]
     },
     "execution_count": 2,
     "metadata": {},
     "output_type": "execute_result"
    }
   ],
   "source": [
    "pd.__version__"
   ]
  },
  {
   "cell_type": "code",
   "execution_count": 3,
   "id": "0b3363fd",
   "metadata": {},
   "outputs": [
    {
     "data": {
      "text/html": [
       "<div>\n",
       "<style scoped>\n",
       "    .dataframe tbody tr th:only-of-type {\n",
       "        vertical-align: middle;\n",
       "    }\n",
       "\n",
       "    .dataframe tbody tr th {\n",
       "        vertical-align: top;\n",
       "    }\n",
       "\n",
       "    .dataframe thead th {\n",
       "        text-align: right;\n",
       "    }\n",
       "</style>\n",
       "<table border=\"1\" class=\"dataframe\">\n",
       "  <thead>\n",
       "    <tr style=\"text-align: right;\">\n",
       "      <th></th>\n",
       "      <th>engine_displacement</th>\n",
       "      <th>num_cylinders</th>\n",
       "      <th>horsepower</th>\n",
       "      <th>vehicle_weight</th>\n",
       "      <th>acceleration</th>\n",
       "      <th>model_year</th>\n",
       "      <th>origin</th>\n",
       "      <th>fuel_type</th>\n",
       "      <th>drivetrain</th>\n",
       "      <th>num_doors</th>\n",
       "      <th>fuel_efficiency_mpg</th>\n",
       "    </tr>\n",
       "  </thead>\n",
       "  <tbody>\n",
       "    <tr>\n",
       "      <th>0</th>\n",
       "      <td>170</td>\n",
       "      <td>3.0</td>\n",
       "      <td>159.0</td>\n",
       "      <td>3413.433759</td>\n",
       "      <td>17.7</td>\n",
       "      <td>2003</td>\n",
       "      <td>Europe</td>\n",
       "      <td>Gasoline</td>\n",
       "      <td>All-wheel drive</td>\n",
       "      <td>0.0</td>\n",
       "      <td>13.231729</td>\n",
       "    </tr>\n",
       "  </tbody>\n",
       "</table>\n",
       "</div>"
      ],
      "text/plain": [
       "   engine_displacement  num_cylinders  horsepower  vehicle_weight  \\\n",
       "0                  170            3.0       159.0     3413.433759   \n",
       "\n",
       "   acceleration  model_year  origin fuel_type       drivetrain  num_doors  \\\n",
       "0          17.7        2003  Europe  Gasoline  All-wheel drive        0.0   \n",
       "\n",
       "   fuel_efficiency_mpg  \n",
       "0            13.231729  "
      ]
     },
     "execution_count": 3,
     "metadata": {},
     "output_type": "execute_result"
    }
   ],
   "source": [
    "car_table = pd.read_csv(\"/workspaces/ml_zoomcamp/week_1/car_fuel_efficiency.csv\")\n",
    "car_table.head(1)"
   ]
  },
  {
   "cell_type": "code",
   "execution_count": 15,
   "id": "63c00549",
   "metadata": {},
   "outputs": [
    {
     "data": {
      "text/plain": [
       "(9704, 11)"
      ]
     },
     "execution_count": 15,
     "metadata": {},
     "output_type": "execute_result"
    }
   ],
   "source": [
    "car_table.shape"
   ]
  },
  {
   "cell_type": "code",
   "execution_count": 18,
   "id": "509690b4",
   "metadata": {},
   "outputs": [
    {
     "data": {
      "text/plain": [
       "2"
      ]
     },
     "execution_count": 18,
     "metadata": {},
     "output_type": "execute_result"
    }
   ],
   "source": [
    "car_table[\"fuel_type\"].nunique()"
   ]
  },
  {
   "cell_type": "code",
   "execution_count": 28,
   "id": "e2596fa5",
   "metadata": {},
   "outputs": [
    {
     "data": {
      "text/plain": [
       "np.int64(4)"
      ]
     },
     "execution_count": 28,
     "metadata": {},
     "output_type": "execute_result"
    }
   ],
   "source": [
    "null_columns = car_table.isnull().any().sum()\n",
    "null_columns"
   ]
  },
  {
   "cell_type": "code",
   "execution_count": 32,
   "id": "0ba2d9d7",
   "metadata": {},
   "outputs": [
    {
     "data": {
      "text/plain": [
       "np.float64(23.759122836520497)"
      ]
     },
     "execution_count": 32,
     "metadata": {},
     "output_type": "execute_result"
    }
   ],
   "source": [
    "max_efficincy = car_table.loc[car_table[\"origin\"] == \"Asia\", \"fuel_efficiency_mpg\"].max()\n",
    "max_efficincy"
   ]
  },
  {
   "cell_type": "code",
   "execution_count": 4,
   "id": "dc2cacd3",
   "metadata": {},
   "outputs": [
    {
     "name": "stdout",
     "output_type": "stream",
     "text": [
      "the median horsepower: 149.0\n",
      "the most frequent horsepower: 152.0\n"
     ]
    }
   ],
   "source": [
    "median_horsepower = car_table[\"horsepower\"].median()\n",
    "frequent_horsepower = car_table[\"horsepower\"].mode().iloc[0]\n",
    "print(f\"the median horsepower: {median_horsepower}\")\n",
    "print(f\"the most frequent horsepower: {frequent_horsepower}\")"
   ]
  },
  {
   "cell_type": "code",
   "execution_count": 5,
   "id": "6277cc67",
   "metadata": {},
   "outputs": [
    {
     "data": {
      "text/plain": [
       "np.float64(149.0)"
      ]
     },
     "execution_count": 5,
     "metadata": {},
     "output_type": "execute_result"
    }
   ],
   "source": [
    "car_table[\"horsepower\"].median()"
   ]
  },
  {
   "cell_type": "code",
   "execution_count": 66,
   "id": "7a0fa06d",
   "metadata": {},
   "outputs": [
    {
     "data": {
      "text/plain": [
       "array([[62248334.33150762, 41431216.5073268 ],\n",
       "       [41431216.5073268 , 28373339.        ]])"
      ]
     },
     "execution_count": 66,
     "metadata": {},
     "output_type": "execute_result"
    }
   ],
   "source": [
    "X = car_table.loc[car_table[\"origin\"] == \"Asia\", [\"vehicle_weight\", \"model_year\"]].head(7).to_numpy()\n",
    "XTX = X.T @ X\n",
    "XTX"
   ]
  },
  {
   "cell_type": "code",
   "execution_count": 68,
   "id": "e4322ff7",
   "metadata": {},
   "outputs": [
    {
     "data": {
      "text/plain": [
       "array([[ 5.71497081e-07, -8.34509443e-07],\n",
       "       [-8.34509443e-07,  1.25380877e-06]])"
      ]
     },
     "execution_count": 68,
     "metadata": {},
     "output_type": "execute_result"
    }
   ],
   "source": [
    "XTX_inv = np.linalg.inv(XTX)\n",
    "XTX_inv"
   ]
  },
  {
   "cell_type": "code",
   "execution_count": 69,
   "id": "5f568af3",
   "metadata": {},
   "outputs": [
    {
     "data": {
      "text/plain": [
       "array([1100, 1300,  800,  900, 1000, 1100, 1200])"
      ]
     },
     "execution_count": 69,
     "metadata": {},
     "output_type": "execute_result"
    }
   ],
   "source": [
    "y = np.array([1100, 1300, 800, 900, 1000, 1100, 1200])\n",
    "y"
   ]
  },
  {
   "cell_type": "code",
   "execution_count": 70,
   "id": "536cbc2a",
   "metadata": {},
   "outputs": [
    {
     "data": {
      "text/plain": [
       "array([0.01386421, 0.5049067 ])"
      ]
     },
     "execution_count": 70,
     "metadata": {},
     "output_type": "execute_result"
    }
   ],
   "source": [
    "w = XTX_inv @ X.T @ y\n",
    "w"
   ]
  },
  {
   "cell_type": "code",
   "execution_count": 71,
   "id": "2d4c9be3",
   "metadata": {},
   "outputs": [
    {
     "data": {
      "text/plain": [
       "np.float64(0.5187709081074016)"
      ]
     },
     "execution_count": 71,
     "metadata": {},
     "output_type": "execute_result"
    }
   ],
   "source": [
    "w.sum()"
   ]
  },
  {
   "cell_type": "code",
   "execution_count": null,
   "id": "0c790e3f",
   "metadata": {},
   "outputs": [],
   "source": []
  }
 ],
 "metadata": {
  "kernelspec": {
   "display_name": "Python 3",
   "language": "python",
   "name": "python3"
  },
  "language_info": {
   "codemirror_mode": {
    "name": "ipython",
    "version": 3
   },
   "file_extension": ".py",
   "mimetype": "text/x-python",
   "name": "python",
   "nbconvert_exporter": "python",
   "pygments_lexer": "ipython3",
   "version": "3.12.1"
  }
 },
 "nbformat": 4,
 "nbformat_minor": 5
}
