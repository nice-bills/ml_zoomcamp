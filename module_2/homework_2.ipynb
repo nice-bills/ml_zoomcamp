{
 "cells": [
  {
   "cell_type": "code",
   "execution_count": 11,
   "id": "befb846a",
   "metadata": {},
   "outputs": [],
   "source": [
    "import numpy as np\n",
    "import pandas as pd\n",
    "import matplotlib.pyplot as plt\n",
    "import seaborn as sns\n",
    "\n",
    "%matplotlib inline"
   ]
  },
  {
   "cell_type": "code",
   "execution_count": 2,
   "id": "61583f1a",
   "metadata": {},
   "outputs": [],
   "source": [
    "data = \"https://raw.githubusercontent.com/alexeygrigorev/datasets/master/car_fuel_efficiency.csv\""
   ]
  },
  {
   "cell_type": "code",
   "execution_count": 3,
   "id": "b812fff5",
   "metadata": {},
   "outputs": [
    {
     "name": "stdout",
     "output_type": "stream",
     "text": [
      "--2025-10-05 09:33:40--  https://raw.githubusercontent.com/alexeygrigorev/datasets/master/car_fuel_efficiency.csv\n",
      "Resolving raw.githubusercontent.com (raw.githubusercontent.com)... 185.199.108.133, 185.199.109.133, 185.199.110.133, ...\n",
      "Connecting to raw.githubusercontent.com (raw.githubusercontent.com)|185.199.108.133|:443... connected.\n",
      "HTTP request sent, awaiting response... 200 OK\n",
      "Length: 874188 (854K) [text/plain]\n",
      "Saving to: ‘car_fuel_efficiency.csv’\n",
      "\n",
      "car_fuel_efficiency 100%[===================>] 853.70K  --.-KB/s    in 0.004s  \n",
      "\n",
      "2025-10-05 09:33:40 (188 MB/s) - ‘car_fuel_efficiency.csv’ saved [874188/874188]\n",
      "\n"
     ]
    }
   ],
   "source": [
    "!wget $data"
   ]
  },
  {
   "cell_type": "code",
   "execution_count": 5,
   "id": "d17492b8",
   "metadata": {},
   "outputs": [
    {
     "data": {
      "text/html": [
       "<div>\n",
       "<style scoped>\n",
       "    .dataframe tbody tr th:only-of-type {\n",
       "        vertical-align: middle;\n",
       "    }\n",
       "\n",
       "    .dataframe tbody tr th {\n",
       "        vertical-align: top;\n",
       "    }\n",
       "\n",
       "    .dataframe thead th {\n",
       "        text-align: right;\n",
       "    }\n",
       "</style>\n",
       "<table border=\"1\" class=\"dataframe\">\n",
       "  <thead>\n",
       "    <tr style=\"text-align: right;\">\n",
       "      <th></th>\n",
       "      <th>engine_displacement</th>\n",
       "      <th>num_cylinders</th>\n",
       "      <th>horsepower</th>\n",
       "      <th>vehicle_weight</th>\n",
       "      <th>acceleration</th>\n",
       "      <th>model_year</th>\n",
       "      <th>origin</th>\n",
       "      <th>fuel_type</th>\n",
       "      <th>drivetrain</th>\n",
       "      <th>num_doors</th>\n",
       "      <th>fuel_efficiency_mpg</th>\n",
       "    </tr>\n",
       "  </thead>\n",
       "  <tbody>\n",
       "    <tr>\n",
       "      <th>0</th>\n",
       "      <td>170</td>\n",
       "      <td>3.0</td>\n",
       "      <td>159.0</td>\n",
       "      <td>3413.433759</td>\n",
       "      <td>17.7</td>\n",
       "      <td>2003</td>\n",
       "      <td>Europe</td>\n",
       "      <td>Gasoline</td>\n",
       "      <td>All-wheel drive</td>\n",
       "      <td>0.0</td>\n",
       "      <td>13.231729</td>\n",
       "    </tr>\n",
       "    <tr>\n",
       "      <th>1</th>\n",
       "      <td>130</td>\n",
       "      <td>5.0</td>\n",
       "      <td>97.0</td>\n",
       "      <td>3149.664934</td>\n",
       "      <td>17.8</td>\n",
       "      <td>2007</td>\n",
       "      <td>USA</td>\n",
       "      <td>Gasoline</td>\n",
       "      <td>Front-wheel drive</td>\n",
       "      <td>0.0</td>\n",
       "      <td>13.688217</td>\n",
       "    </tr>\n",
       "    <tr>\n",
       "      <th>2</th>\n",
       "      <td>170</td>\n",
       "      <td>NaN</td>\n",
       "      <td>78.0</td>\n",
       "      <td>3079.038997</td>\n",
       "      <td>15.1</td>\n",
       "      <td>2018</td>\n",
       "      <td>Europe</td>\n",
       "      <td>Gasoline</td>\n",
       "      <td>Front-wheel drive</td>\n",
       "      <td>0.0</td>\n",
       "      <td>14.246341</td>\n",
       "    </tr>\n",
       "    <tr>\n",
       "      <th>3</th>\n",
       "      <td>220</td>\n",
       "      <td>4.0</td>\n",
       "      <td>NaN</td>\n",
       "      <td>2542.392402</td>\n",
       "      <td>20.2</td>\n",
       "      <td>2009</td>\n",
       "      <td>USA</td>\n",
       "      <td>Diesel</td>\n",
       "      <td>All-wheel drive</td>\n",
       "      <td>2.0</td>\n",
       "      <td>16.912736</td>\n",
       "    </tr>\n",
       "    <tr>\n",
       "      <th>4</th>\n",
       "      <td>210</td>\n",
       "      <td>1.0</td>\n",
       "      <td>140.0</td>\n",
       "      <td>3460.870990</td>\n",
       "      <td>14.4</td>\n",
       "      <td>2009</td>\n",
       "      <td>Europe</td>\n",
       "      <td>Gasoline</td>\n",
       "      <td>All-wheel drive</td>\n",
       "      <td>2.0</td>\n",
       "      <td>12.488369</td>\n",
       "    </tr>\n",
       "  </tbody>\n",
       "</table>\n",
       "</div>"
      ],
      "text/plain": [
       "   engine_displacement  num_cylinders  horsepower  vehicle_weight  \\\n",
       "0                  170            3.0       159.0     3413.433759   \n",
       "1                  130            5.0        97.0     3149.664934   \n",
       "2                  170            NaN        78.0     3079.038997   \n",
       "3                  220            4.0         NaN     2542.392402   \n",
       "4                  210            1.0       140.0     3460.870990   \n",
       "\n",
       "   acceleration  model_year  origin fuel_type         drivetrain  num_doors  \\\n",
       "0          17.7        2003  Europe  Gasoline    All-wheel drive        0.0   \n",
       "1          17.8        2007     USA  Gasoline  Front-wheel drive        0.0   \n",
       "2          15.1        2018  Europe  Gasoline  Front-wheel drive        0.0   \n",
       "3          20.2        2009     USA    Diesel    All-wheel drive        2.0   \n",
       "4          14.4        2009  Europe  Gasoline    All-wheel drive        2.0   \n",
       "\n",
       "   fuel_efficiency_mpg  \n",
       "0            13.231729  \n",
       "1            13.688217  \n",
       "2            14.246341  \n",
       "3            16.912736  \n",
       "4            12.488369  "
      ]
     },
     "execution_count": 5,
     "metadata": {},
     "output_type": "execute_result"
    }
   ],
   "source": [
    "df = pd.read_csv(\"car_fuel_efficiency.csv\")\n",
    "df.head()"
   ]
  },
  {
   "cell_type": "code",
   "execution_count": 10,
   "id": "440dd569",
   "metadata": {},
   "outputs": [
    {
     "data": {
      "text/plain": [
       "(9704, 11)"
      ]
     },
     "execution_count": 10,
     "metadata": {},
     "output_type": "execute_result"
    }
   ],
   "source": [
    "df.shape"
   ]
  },
  {
   "cell_type": "code",
   "execution_count": 7,
   "id": "1775f500",
   "metadata": {},
   "outputs": [
    {
     "data": {
      "text/plain": [
       "(Index(['engine_displacement', 'num_cylinders', 'horsepower', 'vehicle_weight',\n",
       "        'acceleration', 'model_year', 'origin', 'fuel_type', 'drivetrain',\n",
       "        'num_doors', 'fuel_efficiency_mpg'],\n",
       "       dtype='object'),\n",
       " engine_displacement      int64\n",
       " num_cylinders          float64\n",
       " horsepower             float64\n",
       " vehicle_weight         float64\n",
       " acceleration           float64\n",
       " model_year               int64\n",
       " origin                  object\n",
       " fuel_type               object\n",
       " drivetrain              object\n",
       " num_doors              float64\n",
       " fuel_efficiency_mpg    float64\n",
       " dtype: object)"
      ]
     },
     "execution_count": 7,
     "metadata": {},
     "output_type": "execute_result"
    }
   ],
   "source": [
    "df.columns , df.dtypes"
   ]
  },
  {
   "cell_type": "code",
   "execution_count": 24,
   "id": "ce6a8264",
   "metadata": {},
   "outputs": [
    {
     "data": {
      "text/plain": [
       "engine_displacement      0\n",
       "num_cylinders          482\n",
       "horsepower             708\n",
       "vehicle_weight           0\n",
       "acceleration           930\n",
       "model_year               0\n",
       "origin                   0\n",
       "fuel_type                0\n",
       "drivetrain               0\n",
       "num_doors              502\n",
       "fuel_efficiency_mpg      0\n",
       "dtype: int64"
      ]
     },
     "execution_count": 24,
     "metadata": {},
     "output_type": "execute_result"
    }
   ],
   "source": [
    "df.isnull().sum()"
   ]
  },
  {
   "cell_type": "code",
   "execution_count": 67,
   "id": "33096a25",
   "metadata": {},
   "outputs": [],
   "source": [
    "columns_used = ['engine_displacement','horsepower','vehicle_weight','model_year']\n"
   ]
  },
  {
   "cell_type": "code",
   "execution_count": 21,
   "id": "b9ac5577",
   "metadata": {},
   "outputs": [
    {
     "name": "stdout",
     "output_type": "stream",
     "text": [
      "engine_displacement\n",
      "36\n",
      "[170 130 220 210 190]\n",
      "\n",
      "horsepower\n",
      "192\n",
      "[159.  97.  78.  nan 140.]\n",
      "\n",
      "vehicle_weight\n",
      "9704\n",
      "[3413.43375861 3149.66493422 3079.03899737 2542.39240183 3460.87098999]\n",
      "\n",
      "model_year\n",
      "24\n",
      "[2003 2007 2018 2009 2008]\n",
      "\n",
      "fuel_efficiency_mpg\n",
      "9704\n",
      "[13.23172891 13.68821744 14.246341   16.9127356  12.48836912]\n",
      "\n"
     ]
    }
   ],
   "source": [
    "for col in columns_used:\n",
    "    print(col)\n",
    "    print(df[col].nunique())\n",
    "    print(df[col].unique()[:5])\n",
    "    print()"
   ]
  },
  {
   "cell_type": "code",
   "execution_count": 22,
   "id": "f2ec0cf0",
   "metadata": {},
   "outputs": [
    {
     "data": {
      "text/plain": [
       "Text(0.5, 1.0, 'fuel_efficiency_mpg')"
      ]
     },
     "execution_count": 22,
     "metadata": {},
     "output_type": "execute_result"
    },
    {
     "data": {
      "image/png": "[encoded data removed]",
      "text/plain": [
       "<Figure size 640x480 with 1 Axes>"
      ]
     },
     "metadata": {},
     "output_type": "display_data"
    }
   ],
   "source": [
    "sns.histplot(df.fuel_efficiency_mpg)\n",
    "plt.title(\"fuel_efficiency_mpg\")"
   ]
  },
  {
   "cell_type": "code",
   "execution_count": 23,
   "id": "6aaba7b2",
   "metadata": {},
   "outputs": [
    {
     "data": {
      "text/plain": [
       "np.float64(149.0)"
      ]
     },
     "execution_count": 23,
     "metadata": {},
     "output_type": "execute_result"
    }
   ],
   "source": [
    "df.horsepower.median()"
   ]
  },
  {
   "cell_type": "code",
   "execution_count": 35,
   "id": "9ac63d29",
   "metadata": {},
   "outputs": [
    {
     "data": {
      "text/plain": [
       "9704"
      ]
     },
     "execution_count": 35,
     "metadata": {},
     "output_type": "execute_result"
    }
   ],
   "source": [
    "n = len(df)\n",
    "n"
   ]
  },
  {
   "cell_type": "code",
   "execution_count": 36,
   "id": "f4b05e21",
   "metadata": {},
   "outputs": [
    {
     "data": {
      "text/plain": [
       "(5824, 1940, 1940)"
      ]
     },
     "execution_count": 36,
     "metadata": {},
     "output_type": "execute_result"
    }
   ],
   "source": [
    "n_test = int(n * 0.2)\n",
    "n_val = int(n * 0.2)\n",
    "n_train = n - n_test - n_val\n",
    "\n",
    "n_train, n_val, n_test"
   ]
  },
  {
   "cell_type": "code",
   "execution_count": 49,
   "id": "b65bf8d5",
   "metadata": {},
   "outputs": [],
   "source": [
    "idx = np.arange(n)"
   ]
  },
  {
   "cell_type": "code",
   "execution_count": 50,
   "id": "cc228e79",
   "metadata": {},
   "outputs": [],
   "source": [
    "np.random.seed(42)\n",
    "np.random.shuffle(idx)"
   ]
  },
  {
   "cell_type": "code",
   "execution_count": 52,
   "id": "b068feb8",
   "metadata": {},
   "outputs": [],
   "source": [
    "df_train = df.iloc[idx[:n_train]]\n",
    "df_test = df.iloc[idx[n_train:n_train + n_test]]\n",
    "df_val = df.iloc[idx[n_test + n_train:]]"
   ]
  },
  {
   "cell_type": "code",
   "execution_count": 58,
   "id": "c4786030",
   "metadata": {},
   "outputs": [
    {
     "data": {
      "text/plain": [
       "(5824, 1940, 1940)"
      ]
     },
     "execution_count": 58,
     "metadata": {},
     "output_type": "execute_result"
    }
   ],
   "source": [
    "len(df_train), len(df_val), len(df_test)"
   ]
  },
  {
   "cell_type": "code",
   "execution_count": 59,
   "id": "2e54d822",
   "metadata": {},
   "outputs": [],
   "source": [
    "df_train = df_train.reset_index(drop= True)\n",
    "df_val = df_val.reset_index(drop= True)\n",
    "df_test = df_test.reset_index(drop= True)"
   ]
  },
  {
   "cell_type": "code",
   "execution_count": 62,
   "id": "00ed2d1d",
   "metadata": {},
   "outputs": [],
   "source": [
    "y_train = df_train.fuel_efficiency_mpg.values\n",
    "y_val = df_val.fuel_efficiency_mpg.values\n",
    "y_test = df_test.fuel_efficiency_mpg.values"
   ]
  },
  {
   "cell_type": "code",
   "execution_count": 63,
   "id": "dbdf7a83",
   "metadata": {},
   "outputs": [],
   "source": [
    "del df_train[\"fuel_efficiency_mpg\"]\n",
    "del df_val[\"fuel_efficiency_mpg\"]\n",
    "del df_test[\"fuel_efficiency_mpg\"]"
   ]
  },
  {
   "cell_type": "code",
   "execution_count": 65,
   "id": "b5a75455",
   "metadata": {},
   "outputs": [
    {
     "data": {
      "text/plain": [
       "5824"
      ]
     },
     "execution_count": 65,
     "metadata": {},
     "output_type": "execute_result"
    }
   ],
   "source": [
    "len(y_train)"
   ]
  },
  {
   "cell_type": "code",
   "execution_count": 69,
   "id": "07e31a4b",
   "metadata": {},
   "outputs": [
    {
     "data": {
      "text/plain": [
       "engine_displacement      0\n",
       "horsepower             429\n",
       "vehicle_weight           0\n",
       "model_year               0\n",
       "dtype: int64"
      ]
     },
     "execution_count": 69,
     "metadata": {},
     "output_type": "execute_result"
    }
   ],
   "source": [
    "df_train[columns_used].isna().sum()"
   ]
  },
  {
   "cell_type": "code",
   "execution_count": 71,
   "id": "28366593",
   "metadata": {},
   "outputs": [],
   "source": [
    "X_train_0 = df_train[columns_used].fillna(0).values"
   ]
  },
  {
   "cell_type": "code",
   "execution_count": 72,
   "id": "f0e82eaa",
   "metadata": {},
   "outputs": [],
   "source": [
    "def train_linear_regression(X,y):\n",
    "    ones = np.ones(X.shape[0])\n",
    "    X = np.column_stack([ones, X])\n",
    "\n",
    "    XTX = X.T.dot(X)\n",
    "    XTX_inv = np.linalg.inv(XTX)\n",
    "    w_full = XTX_inv.dot(X.T).dot(y)\n",
    "\n",
    "    return w_full[0], w_full[1:]"
   ]
  },
  {
   "cell_type": "code",
   "execution_count": 74,
   "id": "a8125a8d",
   "metadata": {},
   "outputs": [],
   "source": [
    "w0, w = train_linear_regression(X_train_0, y_train)"
   ]
  },
  {
   "cell_type": "code",
   "execution_count": 78,
   "id": "320d364b",
   "metadata": {},
   "outputs": [
    {
     "data": {
      "text/plain": [
       "(np.float64(28.827365475106156),\n",
       " array([ 9.93613218e-05,  3.54221891e-03, -5.01328015e-03,  3.42992869e-04]))"
      ]
     },
     "execution_count": 78,
     "metadata": {},
     "output_type": "execute_result"
    }
   ],
   "source": [
    "w0, w"
   ]
  },
  {
   "cell_type": "code",
   "execution_count": 75,
   "id": "d9f1be5f",
   "metadata": {},
   "outputs": [],
   "source": [
    "y_pred = w0 + X_train_0.dot(w)"
   ]
  },
  {
   "cell_type": "code",
   "execution_count": 77,
   "id": "1c4def58",
   "metadata": {},
   "outputs": [
    {
     "data": {
      "text/plain": [
       "<Axes: ylabel='Count'>"
      ]
     },
     "execution_count": 77,
     "metadata": {},
     "output_type": "execute_result"
    },
    {
     "data": {
      "image/png": "[encoded data removed]",
      "text/plain": [
       "<Figure size 640x480 with 1 Axes>"
      ]
     },
     "metadata": {},
     "output_type": "display_data"
    }
   ],
   "source": [
    "sns.histplot(y_pred, alpha = 0.5)\n",
    "sns.histplot(y_train, alpha = 0.5)"
   ]
  },
  {
   "cell_type": "code",
   "execution_count": null,
   "id": "91c3e167",
   "metadata": {},
   "outputs": [
    {
     "name": "stdout",
     "output_type": "stream",
     "text": [
      "149.54476367006487\n"
     ]
    }
   ],
   "source": [
    "horsepower_mean = df_train.horsepower.mean()\n",
    "print(horsepower_mean)\n",
    "X_train_mean = df_train[columns_used].fillna(horsepower_mean).values"
   ]
  },
  {
   "cell_type": "code",
   "execution_count": 82,
   "id": "1471dd2b",
   "metadata": {},
   "outputs": [],
   "source": [
    "w0_mean, w_mean = train_linear_regression(X_train_mean, y_train)"
   ]
  },
  {
   "cell_type": "code",
   "execution_count": 83,
   "id": "fdefa9be",
   "metadata": {},
   "outputs": [
    {
     "data": {
      "text/plain": [
       "(np.float64(28.925259952113596),\n",
       " array([ 0.00012093,  0.01030308, -0.00501009, -0.00023463]))"
      ]
     },
     "execution_count": 83,
     "metadata": {},
     "output_type": "execute_result"
    }
   ],
   "source": [
    "w0_mean, w_mean"
   ]
  },
  {
   "cell_type": "code",
   "execution_count": 84,
   "id": "25ff65bf",
   "metadata": {},
   "outputs": [],
   "source": [
    "y_pred_mean = w0 + X_train_0.dot(w)"
   ]
  },
  {
   "cell_type": "code",
   "execution_count": 86,
   "id": "6659e75a",
   "metadata": {},
   "outputs": [
    {
     "data": {
      "text/plain": [
       "<Axes: ylabel='Count'>"
      ]
     },
     "execution_count": 86,
     "metadata": {},
     "output_type": "execute_result"
    },
    {
     "data": {
      "image/png": "[encoded data removed]",
      "text/plain": [
       "<Figure size 640x480 with 1 Axes>"
      ]
     },
     "metadata": {},
     "output_type": "display_data"
    }
   ],
   "source": [
    "sns.histplot(y_pred_mean, alpha = 0.5)\n",
    "sns.histplot(y_train, alpha = 0.5)"
   ]
  },
  {
   "cell_type": "code",
   "execution_count": 87,
   "id": "ff609638",
   "metadata": {},
   "outputs": [],
   "source": [
    "def rmse(y, y_pred):\n",
    "    error = y - y_pred\n",
    "    se = error ** 2\n",
    "    mse = se.mean()\n",
    "    return np.sqrt(mse)"
   ]
  },
  {
   "cell_type": "code",
   "execution_count": 99,
   "id": "9e0c485a",
   "metadata": {},
   "outputs": [],
   "source": [
    "def prepare_X_0(df):\n",
    "    df_num = df[columns_used]\n",
    "    df_num = df_num.fillna(0)\n",
    "    X = df_num.values\n",
    "    return X\n",
    "\n",
    "\n",
    "def prepare_X_mean(df):\n",
    "    df_num = df[columns_used]\n",
    "    df_num = df_num.fillna(horsepower_mean)\n",
    "    X = df_num.values\n",
    "    return X"
   ]
  },
  {
   "cell_type": "code",
   "execution_count": 97,
   "id": "ed5c3c14",
   "metadata": {},
   "outputs": [
    {
     "data": {
      "text/plain": [
       "np.float64(0.5165003926115536)"
      ]
     },
     "execution_count": 97,
     "metadata": {},
     "output_type": "execute_result"
    }
   ],
   "source": [
    "X_train_0 = prepare_X_0(df_train)\n",
    "w0, w = train_linear_regression(X_train_0, y_train)\n",
    "\n",
    "X_val = prepare_X_0(df_val)\n",
    "y_pred = w0 + X_val.dot(w)\n",
    "\n",
    "rmse(y_val, y_pred)"
   ]
  },
  {
   "cell_type": "code",
   "execution_count": 100,
   "id": "6ec2e4b3",
   "metadata": {},
   "outputs": [
    {
     "data": {
      "text/plain": [
       "np.float64(0.46250373873966527)"
      ]
     },
     "execution_count": 100,
     "metadata": {},
     "output_type": "execute_result"
    }
   ],
   "source": [
    "X_train_mean = prepare_X_mean(df_train)\n",
    "w0, w = train_linear_regression(X_train_mean, y_train)\n",
    "\n",
    "X_val = prepare_X_mean(df_val)\n",
    "y_pred = w0 + X_val.dot(w)\n",
    "\n",
    "rmse(y_val, y_pred)"
   ]
  },
  {
   "cell_type": "code",
   "execution_count": 101,
   "id": "ea409aec",
   "metadata": {},
   "outputs": [],
   "source": [
    "def train_linear_regression_reg(X,y,r):\n",
    "    ones = np.ones(X.shape[0])\n",
    "    X = np.column_stack([ones, X])\n",
    "\n",
    "    XTX = X.T.dot(X)\n",
    "    XTX = XTX + r * np.eye(XTX.shape[0])\n",
    "    \n",
    "    XTX_inv = np.linalg.inv(XTX)\n",
    "    w_full = XTX_inv.dot(X.T).dot(y)\n",
    "\n",
    "    return w_full[0], w_full[1:]"
   ]
  },
  {
   "cell_type": "code",
   "execution_count": 106,
   "id": "33a0a148",
   "metadata": {},
   "outputs": [
    {
     "name": "stdout",
     "output_type": "stream",
     "text": [
      "0 28.827365475106156 0.52\n",
      "0.01 24.92683842008767 0.52\n",
      "0.1 11.239661084961272 0.52\n",
      "1 1.7315979411936366 0.52\n",
      "5 0.3638075020692219 0.52\n",
      "10 0.18306246622306527 0.52\n",
      "100 0.018418017306977234 0.52\n"
     ]
    }
   ],
   "source": [
    "for r in [0, 0.01, 0.1, 1, 5, 10, 100]:\n",
    "\n",
    "    X_train_0 = prepare_X_0(df_train)\n",
    "    w0, w = train_linear_regression_reg(X_train_0, y_train, r = r)\n",
    "\n",
    "    X_val = prepare_X_0(df_val)\n",
    "    y_pred = w0 + X_val.dot(w)\n",
    "    score = rmse(y_val, y_pred)\n",
    "\n",
    "    print(r, w0, score.round(2))"
   ]
  },
  {
   "cell_type": "code",
   "execution_count": 116,
   "id": "a7261180",
   "metadata": {},
   "outputs": [
    {
     "name": "stdout",
     "output_type": "stream",
     "text": [
      "0 0.5340485124291054\n",
      "1 0.5273125355718433\n",
      "2 0.5252633402144418\n",
      "3 0.5146156913678427\n",
      "4 0.5136826353379216\n",
      "5 0.5160924153150925\n",
      "6 0.5186248510224755\n",
      "7 0.519721657373016\n",
      "8 0.5254922205713117\n",
      "9 0.5112415509612342\n"
     ]
    }
   ],
   "source": [
    "for s in [0, 1, 2, 3, 4, 5, 6, 7, 8, 9]:\n",
    "\n",
    "    np.random.seed(s)\n",
    "    np.random.shuffle(idx)\n",
    "\n",
    "    df_train = df.iloc[idx[:n_train]]\n",
    "    df_test = df.iloc[idx[n_train:n_train + n_test]]\n",
    "    df_val = df.iloc[idx[n_test + n_train:]]\n",
    "\n",
    "    df_train = df_train.reset_index(drop= True)\n",
    "    df_val = df_val.reset_index(drop= True)\n",
    "    df_test = df_test.reset_index(drop= True)\n",
    "\n",
    "    y_train = df_train.fuel_efficiency_mpg.values\n",
    "    y_val = df_val.fuel_efficiency_mpg.values\n",
    "    y_test = df_test.fuel_efficiency_mpg.values\n",
    "\n",
    "    del df_train[\"fuel_efficiency_mpg\"]\n",
    "    del df_val[\"fuel_efficiency_mpg\"]\n",
    "    del df_test[\"fuel_efficiency_mpg\"]\n",
    "\n",
    "    X_train_0 = prepare_X_0(df_train)\n",
    "    w0, w = train_linear_regression(X_train_0, y_train)\n",
    "\n",
    "    X_val = prepare_X_0(df_val)\n",
    "    y_pred = w0 + X_val.dot(w)\n",
    "\n",
    "    score = rmse(y_val, y_pred)\n",
    "\n",
    "    print(s, score)\n"
   ]
  },
  {
   "cell_type": "code",
   "execution_count": 118,
   "id": "1b7fca7e",
   "metadata": {},
   "outputs": [
    {
     "name": "stdout",
     "output_type": "stream",
     "text": [
      "0.006\n"
     ]
    }
   ],
   "source": [
    "data = [\n",
    "    0.5149343218438194,\n",
    "    0.5149194930203931,\n",
    "    0.5274445907702882,\n",
    "    0.5139442606087306,\n",
    "    0.5243094084556924,\n",
    "    0.5138730172644154,\n",
    "    0.5114379807698629,\n",
    "    0.5116990729139036,\n",
    "    0.5074208739060149,\n",
    "    0.5219829570048601\n",
    "]\n",
    "\n",
    "std = np.std(data)\n",
    "print(round(std, 3))"
   ]
  },
  {
   "cell_type": "code",
   "execution_count": 122,
   "id": "c0db9e04",
   "metadata": {},
   "outputs": [
    {
     "name": "stdout",
     "output_type": "stream",
     "text": [
      "0.519\n"
     ]
    }
   ],
   "source": [
    "np.random.seed(9)\n",
    "np.random.shuffle(idx)\n",
    "\n",
    "df_train = df.iloc[idx[:n_train]]\n",
    "df_test = df.iloc[idx[n_train:n_train + n_test]]\n",
    "df_val = df.iloc[idx[n_test + n_train:]]\n",
    "\n",
    "df_train = df_train.reset_index(drop= True)\n",
    "df_val = df_val.reset_index(drop= True)\n",
    "df_test = df_test.reset_index(drop= True)\n",
    "\n",
    "y_train = df_train.fuel_efficiency_mpg.values\n",
    "y_val = df_val.fuel_efficiency_mpg.values\n",
    "y_test = df_test.fuel_efficiency_mpg.values\n",
    "\n",
    "del df_train[\"fuel_efficiency_mpg\"]\n",
    "del df_val[\"fuel_efficiency_mpg\"]\n",
    "del df_test[\"fuel_efficiency_mpg\"]\n",
    "\n",
    "\n",
    "X_train_0 = prepare_X_0(df_train)\n",
    "w0, w = train_linear_regression_reg(X_train_0, y_train, r = 0.001)\n",
    "\n",
    "X_val = prepare_X_0(df_val)\n",
    "y_pred = w0 + X_val.dot(w)\n",
    "score = rmse(y_val, y_pred)\n",
    "\n",
    "print(score.round(3))\n",
    "\n"
   ]
  },
  {
   "cell_type": "code",
   "execution_count": null,
   "id": "4c753e04",
   "metadata": {},
   "outputs": [],
   "source": []
  }
 ],
 "metadata": {
  "kernelspec": {
   "display_name": "Python 3",
   "language": "python",
   "name": "python3"
  },
  "language_info": {
   "codemirror_mode": {
    "name": "ipython",
    "version": 3
   },
   "file_extension": ".py",
   "mimetype": "text/x-python",
   "name": "python",
   "nbconvert_exporter": "python",
   "pygments_lexer": "ipython3",
   "version": "3.12.1"
  }
 },
 "nbformat": 4,
 "nbformat_minor": 5
}
