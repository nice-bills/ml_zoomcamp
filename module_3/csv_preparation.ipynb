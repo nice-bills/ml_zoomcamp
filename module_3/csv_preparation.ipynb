{
 "cells": [
  {
   "cell_type": "code",
   "execution_count": 12,
   "id": "0dcf7b5a",
   "metadata": {},
   "outputs": [],
   "source": [
    "import pandas as pd\n",
    "import re"
   ]
  },
  {
   "cell_type": "code",
   "execution_count": 2,
   "id": "dbb04b88",
   "metadata": {},
   "outputs": [],
   "source": [
    "df = pd.read_csv(\"dune_data.csv\")"
   ]
  },
  {
   "cell_type": "code",
   "execution_count": 3,
   "id": "158a8c72",
   "metadata": {},
   "outputs": [
    {
     "data": {
      "text/html": [
       "<div>\n",
       "<style scoped>\n",
       "    .dataframe tbody tr th:only-of-type {\n",
       "        vertical-align: middle;\n",
       "    }\n",
       "\n",
       "    .dataframe tbody tr th {\n",
       "        vertical-align: top;\n",
       "    }\n",
       "\n",
       "    .dataframe thead th {\n",
       "        text-align: right;\n",
       "    }\n",
       "</style>\n",
       "<table border=\"1\" class=\"dataframe\">\n",
       "  <thead>\n",
       "    <tr style=\"text-align: right;\">\n",
       "      <th></th>\n",
       "      <th>active_weeks</th>\n",
       "      <th>target_variable</th>\n",
       "      <th>total_volume</th>\n",
       "      <th>trader_activity_status</th>\n",
       "      <th>trader_volume_status</th>\n",
       "      <th>trader_weekly_frequency_status</th>\n",
       "      <th>tx_count_365d</th>\n",
       "      <th>wallet</th>\n",
       "    </tr>\n",
       "  </thead>\n",
       "  <tbody>\n",
       "    <tr>\n",
       "      <th>0</th>\n",
       "      <td>1</td>\n",
       "      <td>🔴 Bad Trader</td>\n",
       "      <td>38.726119</td>\n",
       "      <td>🐤 Regular User</td>\n",
       "      <td>🦐 Low Value Trader</td>\n",
       "      <td>🐣 Unserious</td>\n",
       "      <td>2</td>\n",
       "      <td>0xa3c6acd45396110466fd8972875b3e6d33a0b0b8</td>\n",
       "    </tr>\n",
       "    <tr>\n",
       "      <th>1</th>\n",
       "      <td>1</td>\n",
       "      <td>🔴 Bad Trader</td>\n",
       "      <td>135.943754</td>\n",
       "      <td>🐣 Occasional User</td>\n",
       "      <td>🐟 Middle Value Trader</td>\n",
       "      <td>🐣 Unserious</td>\n",
       "      <td>1</td>\n",
       "      <td>0xbc0452c93e33b886d0e6750a9fc261e1d3c877ed</td>\n",
       "    </tr>\n",
       "    <tr>\n",
       "      <th>2</th>\n",
       "      <td>1</td>\n",
       "      <td>🔴 Bad Trader</td>\n",
       "      <td>0.457897</td>\n",
       "      <td>🐣 Occasional User</td>\n",
       "      <td>🦐 Low Value Trader</td>\n",
       "      <td>🐣 Unserious</td>\n",
       "      <td>1</td>\n",
       "      <td>0x477b0f0e29494a1e108a302ffecff3d76663386c</td>\n",
       "    </tr>\n",
       "    <tr>\n",
       "      <th>3</th>\n",
       "      <td>5</td>\n",
       "      <td>🔴 Bad Trader</td>\n",
       "      <td>37.614307</td>\n",
       "      <td>🐤 Regular User</td>\n",
       "      <td>🦐 Low Value Trader</td>\n",
       "      <td>🐦 OG</td>\n",
       "      <td>8</td>\n",
       "      <td>0x02170d140c843646d4802f6e65f9236baccc2f70</td>\n",
       "    </tr>\n",
       "    <tr>\n",
       "      <th>4</th>\n",
       "      <td>1</td>\n",
       "      <td>🔴 Bad Trader</td>\n",
       "      <td>2.389608</td>\n",
       "      <td>🐣 Occasional User</td>\n",
       "      <td>🦐 Low Value Trader</td>\n",
       "      <td>🐣 Unserious</td>\n",
       "      <td>1</td>\n",
       "      <td>0xcb69aceac5956af777d4d77c8d01c1fdea5828bd</td>\n",
       "    </tr>\n",
       "  </tbody>\n",
       "</table>\n",
       "</div>"
      ],
      "text/plain": [
       "   active_weeks target_variable  total_volume trader_activity_status  \\\n",
       "0             1    🔴 Bad Trader     38.726119         🐤 Regular User   \n",
       "1             1    🔴 Bad Trader    135.943754      🐣 Occasional User   \n",
       "2             1    🔴 Bad Trader      0.457897      🐣 Occasional User   \n",
       "3             5    🔴 Bad Trader     37.614307         🐤 Regular User   \n",
       "4             1    🔴 Bad Trader      2.389608      🐣 Occasional User   \n",
       "\n",
       "    trader_volume_status trader_weekly_frequency_status  tx_count_365d  \\\n",
       "0     🦐 Low Value Trader                    🐣 Unserious              2   \n",
       "1  🐟 Middle Value Trader                    🐣 Unserious              1   \n",
       "2     🦐 Low Value Trader                    🐣 Unserious              1   \n",
       "3     🦐 Low Value Trader                           🐦 OG              8   \n",
       "4     🦐 Low Value Trader                    🐣 Unserious              1   \n",
       "\n",
       "                                       wallet  \n",
       "0  0xa3c6acd45396110466fd8972875b3e6d33a0b0b8  \n",
       "1  0xbc0452c93e33b886d0e6750a9fc261e1d3c877ed  \n",
       "2  0x477b0f0e29494a1e108a302ffecff3d76663386c  \n",
       "3  0x02170d140c843646d4802f6e65f9236baccc2f70  \n",
       "4  0xcb69aceac5956af777d4d77c8d01c1fdea5828bd  "
      ]
     },
     "execution_count": 3,
     "metadata": {},
     "output_type": "execute_result"
    }
   ],
   "source": [
    "df.head()"
   ]
  },
  {
   "cell_type": "code",
   "execution_count": 10,
   "id": "806f6b77",
   "metadata": {},
   "outputs": [
    {
     "data": {
      "text/plain": [
       "target_variable\n",
       "🔴 Bad Trader     1000\n",
       "🟢 Good Trader    1000\n",
       "Name: count, dtype: int64"
      ]
     },
     "execution_count": 10,
     "metadata": {},
     "output_type": "execute_result"
    }
   ],
   "source": [
    "df.target_variable.value_counts()"
   ]
  },
  {
   "cell_type": "code",
   "execution_count": 18,
   "id": "57352f84",
   "metadata": {},
   "outputs": [
    {
     "name": "stdout",
     "output_type": "stream",
     "text": [
      "Emojis removed, whitespace stripped, and file saved as cleaned_no_emojis.csv\n"
     ]
    },
    {
     "name": "stderr",
     "output_type": "stream",
     "text": [
      "/tmp/ipykernel_12040/1488100796.py:37: FutureWarning: DataFrame.applymap has been deprecated. Use DataFrame.map instead.\n",
      "  df = df.applymap(clean_text)\n"
     ]
    }
   ],
   "source": [
    "# Load your CSV\n",
    "df = pd.read_csv(\"dune_data.csv\")\n",
    "\n",
    "# Define a function to remove emojis and strip whitespace\n",
    "def clean_text(text):\n",
    "    if isinstance(text, str):\n",
    "        emoji_pattern = re.compile(\n",
    "            \"[\"\n",
    "            \"\\U0001F600-\\U0001F64F\"  # emoticons\n",
    "            \"\\U0001F300-\\U0001F5FF\"  # symbols & pictographs\n",
    "            \"\\U0001F680-\\U0001F6FF\"  # transport & map symbols\n",
    "            \"\\U0001F1E0-\\U0001F1FF\"  # flags\n",
    "            \"\\U00002500-\\U00002BEF\"  # Chinese symbols\n",
    "            \"\\U00002702-\\U000027B0\"\n",
    "            \"\\U000024C2-\\U0001F251\"\n",
    "            \"\\U0001f926-\\U0001f937\"\n",
    "            \"\\U00010000-\\U0010ffff\"\n",
    "            \"\\u2640-\\u2642\"\n",
    "            \"\\u2600-\\u2B55\"\n",
    "            \"\\u200d\"\n",
    "            \"\\u23cf\"\n",
    "            \"\\u23e9\"\n",
    "            \"\\u231a\"\n",
    "            \"\\ufe0f\"  # dingbats\n",
    "            \"\\u3030\"\n",
    "            \"]+\", \n",
    "            flags=re.UNICODE\n",
    "        )\n",
    "        # Remove emojis and trim spaces\n",
    "        text = emoji_pattern.sub(r'', text)\n",
    "        text = text.strip()\n",
    "        return text\n",
    "    else:\n",
    "        return text\n",
    "\n",
    "# Apply cleaning to all string columns\n",
    "df = df.applymap(clean_text)\n",
    "\n",
    "# Save the cleaned version\n",
    "df.to_csv(\"cleaned_no_emojis.csv\", index=False)\n",
    "\n",
    "print(\"Emojis removed, whitespace stripped, and file saved as cleaned_no_emojis.csv\")\n"
   ]
  },
  {
   "cell_type": "code",
   "execution_count": 32,
   "id": "cf5ed9eb",
   "metadata": {},
   "outputs": [
    {
     "data": {
      "text/plain": [
       "2000"
      ]
     },
     "execution_count": 32,
     "metadata": {},
     "output_type": "execute_result"
    }
   ],
   "source": [
    "cleaned_df = pd.read_csv(\"cleaned_no_emojis.csv\")\n",
    "\n",
    "cleaned_df.head()\n",
    "len(cleaned_df)"
   ]
  },
  {
   "cell_type": "code",
   "execution_count": 33,
   "id": "15801c6f",
   "metadata": {},
   "outputs": [
    {
     "name": "stdout",
     "output_type": "stream",
     "text": [
      "Sampling 1000 Good Traders and 674 Bad Traders (total 1674)\n",
      "target_variable\n",
      "Good Trader    0.597372\n",
      "Bad Trader     0.402628\n",
      "Name: proportion, dtype: float64\n"
     ]
    }
   ],
   "source": [
    "# Load your data\n",
    "df = pd.read_csv(\"cleaned_no_emojis.csv\")\n",
    "\n",
    "# Separate classes\n",
    "good_df = df[df['target_variable'] == 'Good Trader']\n",
    "bad_df = df[df['target_variable'] == 'Bad Trader']\n",
    "\n",
    "# Desired total rows\n",
    "total_rows = 1684\n",
    "desired_good_ratio = 0.6\n",
    "\n",
    "# Compute how many we *want*\n",
    "desired_good = int(total_rows * desired_good_ratio)\n",
    "desired_bad = total_rows - desired_good\n",
    "\n",
    "# Adjust if not enough data\n",
    "desired_good = min(desired_good, len(good_df))\n",
    "desired_bad = min(desired_bad, len(bad_df))\n",
    "\n",
    "# Rescale total if needed\n",
    "actual_total = desired_good + desired_bad\n",
    "print(f\"Sampling {desired_good} Good Traders and {desired_bad} Bad Traders (total {actual_total})\")\n",
    "\n",
    "# Sample\n",
    "good_sample = good_df.sample(n=desired_good, random_state=42)\n",
    "bad_sample = bad_df.sample(n=desired_bad, random_state=42)\n",
    "\n",
    "# Combine and shuffle\n",
    "train_df = pd.concat([good_sample, bad_sample]).sample(frac=1, random_state=42).reset_index(drop=True)\n",
    "\n",
    "# Check ratio\n",
    "print(train_df['target_variable'].value_counts(normalize=True))\n",
    "\n",
    "# Save\n",
    "train_df.to_csv(\"train_60plus_good_trader.csv\", index=False)\n"
   ]
  },
  {
   "cell_type": "code",
   "execution_count": 34,
   "id": "04aea2c5",
   "metadata": {},
   "outputs": [
    {
     "data": {
      "text/plain": [
       "target_variable\n",
       "Good Trader    1000\n",
       "Bad Trader      674\n",
       "Name: count, dtype: int64"
      ]
     },
     "execution_count": 34,
     "metadata": {},
     "output_type": "execute_result"
    }
   ],
   "source": [
    "train_df.target_variable.value_counts()"
   ]
  }
 ],
 "metadata": {
  "kernelspec": {
   "display_name": "Python 3",
   "language": "python",
   "name": "python3"
  },
  "language_info": {
   "codemirror_mode": {
    "name": "ipython",
    "version": 3
   },
   "file_extension": ".py",
   "mimetype": "text/x-python",
   "name": "python",
   "nbconvert_exporter": "python",
   "pygments_lexer": "ipython3",
   "version": "3.12.1"
  }
 },
 "nbformat": 4,
 "nbformat_minor": 5
}
